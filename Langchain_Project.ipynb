{
  "nbformat": 4,
  "nbformat_minor": 0,
  "metadata": {
    "colab": {
      "provenance": []
    },
    "kernelspec": {
      "name": "python3",
      "display_name": "Python 3"
    },
    "language_info": {
      "name": "python"
    }
  },
  "cells": [
    {
      "cell_type": "markdown",
      "source": [
        "Installation of LangChain And LangChain Google Generative AI\n"
      ],
      "metadata": {
        "id": "Onm1JSc0Bi3T"
      }
    },
    {
      "cell_type": "code",
      "source": [
        "!pip install -Uq langchain langchain-google-genai\n",
        ""
      ],
      "metadata": {
        "id": "ZoAMhBd0BoIu"
      },
      "execution_count": 3,
      "outputs": []
    },
    {
      "cell_type": "markdown",
      "source": [
        "Importing Google Gen AI and make a alias (genai)"
      ],
      "metadata": {
        "id": "Na5-VpxFBzt6"
      }
    },
    {
      "cell_type": "code",
      "source": [
        "import langchain_google_genai as genai"
      ],
      "metadata": {
        "id": "wBOWQSblB625"
      },
      "execution_count": 4,
      "outputs": []
    },
    {
      "cell_type": "markdown",
      "source": [
        "From the libraries of langchain google genai we imported Google Gemini Chat Version"
      ],
      "metadata": {
        "id": "m8dXB4xZCBk_"
      }
    },
    {
      "cell_type": "code",
      "source": [
        "from langchain_google_genai import ChatGoogleGenerativeAI"
      ],
      "metadata": {
        "id": "kZ6nUA1VCF_w"
      },
      "execution_count": 5,
      "outputs": []
    },
    {
      "cell_type": "markdown",
      "source": [
        "Getting UserData (API Key), to answer our desired question"
      ],
      "metadata": {
        "id": "9AVmkuE6CNf7"
      }
    },
    {
      "cell_type": "code",
      "source": [
        "from google.colab import userdata\n",
        "GOOGLE_API_KEY = userdata.get('GOOGLE_API_KEY')"
      ],
      "metadata": {
        "id": "2__5REYvCVpP"
      },
      "execution_count": 7,
      "outputs": []
    },
    {
      "cell_type": "markdown",
      "source": [
        "We are using the latest  Model (Google Gemini 2.0 Flash Expermimental)"
      ],
      "metadata": {
        "id": "wtXCVQKvCtlU"
      }
    },
    {
      "cell_type": "code",
      "source": [
        "llm : ChatGoogleGenerativeAI = ChatGoogleGenerativeAI(\n",
        "  model=\"gemini-2.0-flash-exp\",\n",
        "  api_key=GOOGLE_API_KEY,\n",
        ")"
      ],
      "metadata": {
        "id": "CwRK_hf5C396"
      },
      "execution_count": 8,
      "outputs": []
    },
    {
      "cell_type": "markdown",
      "source": [
        "Generating the response through Google Genai\n"
      ],
      "metadata": {
        "id": "LfFty3wlDDw5"
      }
    },
    {
      "cell_type": "code",
      "source": [
        "response = llm.invoke(\"give me few points related to the  scope of data science in real world\")"
      ],
      "metadata": {
        "id": "OQtnB67ODI0Y"
      },
      "execution_count": 10,
      "outputs": []
    },
    {
      "cell_type": "markdown",
      "source": [
        "print the response using the built in function (print)\n"
      ],
      "metadata": {
        "id": "Y40PQiZXD2gz"
      }
    },
    {
      "cell_type": "code",
      "source": [
        "print(response.content)"
      ],
      "metadata": {
        "colab": {
          "base_uri": "https://localhost:8080/"
        },
        "id": "hBf0K3RQD9Ru",
        "outputId": "ebbef535-d64b-44fe-da51-95f4f4d68ab0"
      },
      "execution_count": 11,
      "outputs": [
        {
          "output_type": "stream",
          "name": "stdout",
          "text": [
            "Okay, here are some key points highlighting the scope of data science in the real world, broken down into categories for clarity:\n",
            "\n",
            "**1. Business & Commerce:**\n",
            "\n",
            "* **Personalized Customer Experiences:** Data science powers recommendation engines (think Netflix, Amazon), targeted advertising, and personalized marketing campaigns, leading to increased customer engagement and sales.\n",
            "* **Optimized Operations:** Businesses use data to optimize supply chains, predict demand, manage inventory, and improve logistics, leading to cost savings and efficiency gains.\n",
            "* **Fraud Detection:** Data analysis helps identify and prevent fraudulent transactions in financial services, e-commerce, and insurance.\n",
            "* **Market Analysis & Competitive Intelligence:** Data science provides insights into market trends, competitor activities, and customer behavior, enabling businesses to make informed strategic decisions.\n",
            "* **Risk Management:** Financial institutions use data to assess credit risk, predict market volatility, and manage investments.\n",
            "\n",
            "**2. Healthcare:**\n",
            "\n",
            "* **Disease Diagnosis & Prediction:** Data analysis of medical images, patient records, and genetic data helps in early disease diagnosis, personalized treatment plans, and predicting patient outcomes.\n",
            "* **Drug Discovery & Development:** Data science accelerates the process of identifying potential drug candidates, understanding disease mechanisms, and optimizing clinical trials.\n",
            "* **Public Health Monitoring:** Data analysis helps track disease outbreaks, identify risk factors, and implement effective public health interventions.\n",
            "* **Remote Patient Monitoring:** Wearable sensors and data analysis enable continuous monitoring of patient health and provide timely alerts to healthcare providers.\n",
            "\n",
            "**3. Science & Research:**\n",
            "\n",
            "* **Astronomy:** Analyzing vast amounts of astronomical data to discover new celestial objects, understand the universe's structure, and explore exoplanets.\n",
            "* **Climate Change Research:** Analyzing climate data to model future climate scenarios, understand the impacts of climate change, and develop mitigation strategies.\n",
            "* **Genomics & Bioinformatics:** Analyzing genetic data to understand the relationships between genes and diseases, develop personalized medicine, and explore evolutionary history.\n",
            "* **Materials Science:** Data analysis is used to discover new materials with specific properties for various applications.\n",
            "\n",
            "**4. Government & Public Sector:**\n",
            "\n",
            "* **Urban Planning & Smart Cities:** Analyzing data to optimize traffic flow, improve public transportation, manage energy consumption, and enhance public safety in cities.\n",
            "* **Policy Making:** Data analysis provides evidence-based insights for policy development in areas like education, healthcare, and social welfare.\n",
            "* **Cybersecurity:** Detecting and preventing cyberattacks by analyzing network traffic and identifying suspicious patterns.\n",
            "* **Law Enforcement:** Analyzing crime data to identify hotspots, predict crime patterns, and optimize resource allocation.\n",
            "\n",
            "**5. Other Applications:**\n",
            "\n",
            "* **Sports Analytics:** Analyzing player performance data to optimize team strategies, identify talent, and improve player development.\n",
            "* **Agriculture:** Using data to optimize crop yields, manage water resources, and predict pest outbreaks.\n",
            "* **Education:** Personalizing learning experiences, identifying students at risk, and improving educational outcomes.\n",
            "* **Environmental Conservation:** Monitoring wildlife populations, tracking deforestation, and assessing the impact of human activities on ecosystems.\n",
            "\n",
            "**Key Takeaways:**\n",
            "\n",
            "* **Data is Everywhere:** The scope of data science is vast because data is being generated in almost every aspect of life.\n",
            "* **Problem Solving:** Data science is about using data to solve complex problems and make better decisions.\n",
            "* **Impactful:** Data science has the potential to significantly impact various industries and improve the quality of life.\n",
            "* **Growing Field:** The demand for data scientists is constantly increasing, making it a promising career path.\n",
            "\n",
            "This list provides a good overview of the widespread impact of data science. It's a rapidly evolving field with new applications emerging all the time.\n",
            "\n"
          ]
        }
      ]
    }
  ]
}